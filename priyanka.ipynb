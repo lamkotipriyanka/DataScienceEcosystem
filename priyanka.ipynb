{
 "cells": [
  {
   "cell_type": "markdown",
   "id": "4bcf6cbf",
   "metadata": {},
   "source": [
    "**Data Science Tools and Ecosystem**\n"
   ]
  },
  {
   "cell_type": "markdown",
   "id": "733e47e0",
   "metadata": {},
   "source": [
    "In this notebook, Data Science Tools and Ecosystem are summarized."
   ]
  },
  {
   "cell_type": "markdown",
   "id": "c2505c9d",
   "metadata": {},
   "source": [
    "**Objectives**:\n",
    "\n",
    "-List popular languages for data science\n",
    "\n",
    "-List commonly used libraries used by Data Scientists\n",
    "\n",
    "-Data Science Tools\n",
    "\n",
    "  \n"
   ]
  },
  {
   "cell_type": "markdown",
   "id": "c39f0a9e",
   "metadata": {},
   "source": [
    "Some of the popular languages that Data Scientists use are:\n",
    "\n",
    "1. Python\n",
    "2. C\n",
    "3. Java\n",
    "4. R\n",
    "\n",
    "\n",
    "Some of the commonly used libraries used by Data Scientists include:\n",
    "\n",
    "1. Pandas\n",
    "2. NumPy\n",
    "3. MatplotLib"
   ]
  },
  {
   "cell_type": "markdown",
   "id": "50da2cba",
   "metadata": {},
   "source": [
    "# Data Science Tools\n",
    "\n",
    "| 1.GIT                           |\n",
    "\n",
    "| 2.VS code                       |\n",
    "\n",
    "| 3.Budibase                      |"
   ]
  },
  {
   "cell_type": "markdown",
   "id": "da57b38a",
   "metadata": {},
   "source": [
    "Below are a few examples of evaluating arithmetic expressions in Python:\n",
    "\n",
    "3+4= 7\n",
    "\n",
    "6*7= 42\n",
    "\n",
    "2/2= 1 \n",
    "\n",
    "10-2= 8\n",
    "\n"
   ]
  },
  {
   "cell_type": "code",
   "execution_count": 10,
   "id": "30fce4ea",
   "metadata": {},
   "outputs": [
    {
     "data": {
      "text/plain": [
       "17"
      ]
     },
     "execution_count": 10,
     "metadata": {},
     "output_type": "execute_result"
    }
   ],
   "source": [
    "#This a simple arithmetic expression to mutiply then add integers\n",
    "(3*4)+5\n"
   ]
  },
  {
   "cell_type": "code",
   "execution_count": 11,
   "id": "6dd27e61",
   "metadata": {},
   "outputs": [
    {
     "name": "stdout",
     "output_type": "stream",
     "text": [
      "3.3333333333333335\n"
     ]
    }
   ],
   "source": [
    "#This will convert 200 minutes to hours by diving by 60\n",
    "min=200\n",
    "hour=min/60\n",
    "print(hour)\n"
   ]
  },
  {
   "cell_type": "markdown",
   "id": "55b24adb",
   "metadata": {},
   "source": [
    "AUTHOR\n",
    "\n",
    "Priyanka"
   ]
  }
 ],
 "metadata": {
  "kernelspec": {
   "display_name": "Python 3 (ipykernel)",
   "language": "python",
   "name": "python3"
  },
  "language_info": {
   "codemirror_mode": {
    "name": "ipython",
    "version": 3
   },
   "file_extension": ".py",
   "mimetype": "text/x-python",
   "name": "python",
   "nbconvert_exporter": "python",
   "pygments_lexer": "ipython3",
   "version": "3.10.9"
  }
 },
 "nbformat": 4,
 "nbformat_minor": 5
}
